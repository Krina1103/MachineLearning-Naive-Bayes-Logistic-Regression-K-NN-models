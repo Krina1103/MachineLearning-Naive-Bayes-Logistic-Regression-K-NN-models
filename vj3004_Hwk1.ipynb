{
 "cells": [
  {
   "cell_type": "code",
   "execution_count": 1,
   "id": "b451830c",
   "metadata": {},
   "outputs": [],
   "source": [
    "# Krina Bharatbhai Patel (NetID : vj3004)\n",
    "# Vatsal Pathak (NetID : pv2556)\n",
    "# Group ID : 02\n",
    "\n",
    "import numpy as np\n",
    "from pandas import DataFrame, read_csv, to_numeric\n",
    "from sklearn import cluster\n",
    "from sklearn.model_selection import train_test_split\n",
    "from sklearn.naive_bayes import GaussianNB\n",
    "from sklearn import metrics\n",
    "from sklearn.metrics import accuracy_score\n",
    "from sklearn.metrics import mean_squared_error\n",
    "from sklearn.linear_model import LogisticRegression\n",
    "from sklearn.neighbors import KNeighborsClassifier"
   ]
  },
  {
   "cell_type": "code",
   "execution_count": 2,
   "id": "23e0df26",
   "metadata": {},
   "outputs": [
    {
     "data": {
      "text/plain": [
       "Index(['Pregnancies', 'Glucose', 'BloodPressure', 'SkinThickness', 'Insulin',\n",
       "       'BMI', 'DiabetesPedigreeFunction', 'Age', 'Outcome'],\n",
       "      dtype='object')"
      ]
     },
     "execution_count": 2,
     "metadata": {},
     "output_type": "execute_result"
    }
   ],
   "source": [
    "data = read_csv('diabetes.csv', sep=\",\")\n",
    "data.columns"
   ]
  },
  {
   "cell_type": "code",
   "execution_count": 3,
   "id": "c442d293",
   "metadata": {},
   "outputs": [],
   "source": [
    "x = data.drop(columns=['Outcome'])\n",
    "y = data['Outcome']"
   ]
  },
  {
   "cell_type": "code",
   "execution_count": 4,
   "id": "0628caee",
   "metadata": {},
   "outputs": [],
   "source": [
    "XT = ['XT01', 'XT02', 'XT03', 'XT04', 'XT05', 'XT06', 'XT07', 'XT08', 'XT09', 'XT10' ]\n",
    "XV = ['XV01', 'XV02', 'XV03', 'XV04', 'XV05', 'XV06', 'XV07', 'XV08', 'XV09', 'XV10']"
   ]
  },
  {
   "cell_type": "code",
   "execution_count": 5,
   "id": "e881921d",
   "metadata": {},
   "outputs": [
    {
     "name": "stdout",
     "output_type": "stream",
     "text": [
      "Naive Bayes Classifier: Fold - 1 Training Error : 0.2370\n",
      "Naive Bayes Classifier: Fold - 1 Validation Error : 0.2105\n",
      "Logistic Regression Classifier: Fold - 1 Training Error : 0.2182\n",
      "Logistic Regression Classifier: Fold - 1 Validation Error : 0.2105\n",
      "K-Nearest Neighbors Classifier: Fold - 1 Training Error : 0.1488\n",
      "K-Nearest Neighbors Classifier: Fold - 1 Validation Error : 0.2895\n",
      "Naive Bayes Classifier: Fold - 2 Training Error : 0.2344\n",
      "Naive Bayes Classifier: Fold - 2 Validation Error : 0.2727\n",
      "Logistic Regression Classifier: Fold - 2 Training Error : 0.2214\n",
      "Logistic Regression Classifier: Fold - 2 Validation Error : 0.2338\n",
      "K-Nearest Neighbors Classifier: Fold - 2 Training Error : 0.1462\n",
      "K-Nearest Neighbors Classifier: Fold - 2 Validation Error : 0.4286\n",
      "Naive Bayes Classifier: Fold - 3 Training Error : 0.2330\n",
      "Naive Bayes Classifier: Fold - 3 Validation Error : 0.2727\n",
      "Logistic Regression Classifier: Fold - 3 Training Error : 0.2127\n",
      "Logistic Regression Classifier: Fold - 3 Validation Error : 0.2987\n",
      "K-Nearest Neighbors Classifier: Fold - 3 Training Error : 0.1418\n",
      "K-Nearest Neighbors Classifier: Fold - 3 Validation Error : 0.2468\n",
      "Naive Bayes Classifier: Fold - 4 Training Error : 0.2475\n",
      "Naive Bayes Classifier: Fold - 4 Validation Error : 0.1818\n",
      "Logistic Regression Classifier: Fold - 4 Training Error : 0.2272\n",
      "Logistic Regression Classifier: Fold - 4 Validation Error : 0.1299\n",
      "K-Nearest Neighbors Classifier: Fold - 4 Training Error : 0.1577\n",
      "K-Nearest Neighbors Classifier: Fold - 4 Validation Error : 0.2078\n",
      "Naive Bayes Classifier: Fold - 5 Training Error : 0.2446\n",
      "Naive Bayes Classifier: Fold - 5 Validation Error : 0.2338\n",
      "Logistic Regression Classifier: Fold - 5 Training Error : 0.2200\n",
      "Logistic Regression Classifier: Fold - 5 Validation Error : 0.2078\n",
      "K-Nearest Neighbors Classifier: Fold - 5 Training Error : 0.1360\n",
      "K-Nearest Neighbors Classifier: Fold - 5 Validation Error : 0.2987\n",
      "Naive Bayes Classifier: Fold - 6 Training Error : 0.2359\n",
      "Naive Bayes Classifier: Fold - 6 Validation Error : 0.2727\n",
      "Logistic Regression Classifier: Fold - 6 Training Error : 0.2171\n",
      "Logistic Regression Classifier: Fold - 6 Validation Error : 0.2208\n",
      "K-Nearest Neighbors Classifier: Fold - 6 Training Error : 0.1520\n",
      "K-Nearest Neighbors Classifier: Fold - 6 Validation Error : 0.3247\n",
      "Naive Bayes Classifier: Fold - 7 Training Error : 0.2402\n",
      "Naive Bayes Classifier: Fold - 7 Validation Error : 0.2468\n",
      "Logistic Regression Classifier: Fold - 7 Training Error : 0.2200\n",
      "Logistic Regression Classifier: Fold - 7 Validation Error : 0.2208\n",
      "K-Nearest Neighbors Classifier: Fold - 7 Training Error : 0.1621\n",
      "K-Nearest Neighbors Classifier: Fold - 7 Validation Error : 0.2597\n",
      "Naive Bayes Classifier: Fold - 8 Training Error : 0.2301\n",
      "Naive Bayes Classifier: Fold - 8 Validation Error : 0.2338\n",
      "Logistic Regression Classifier: Fold - 8 Training Error : 0.2171\n",
      "Logistic Regression Classifier: Fold - 8 Validation Error : 0.2597\n",
      "K-Nearest Neighbors Classifier: Fold - 8 Training Error : 0.1389\n",
      "K-Nearest Neighbors Classifier: Fold - 8 Validation Error : 0.3247\n",
      "Naive Bayes Classifier: Fold - 9 Training Error : 0.2489\n",
      "Naive Bayes Classifier: Fold - 9 Validation Error : 0.1688\n",
      "Logistic Regression Classifier: Fold - 9 Training Error : 0.2214\n",
      "Logistic Regression Classifier: Fold - 9 Validation Error : 0.1688\n",
      "K-Nearest Neighbors Classifier: Fold - 9 Training Error : 0.1433\n",
      "K-Nearest Neighbors Classifier: Fold - 9 Validation Error : 0.3117\n",
      "Naive Bayes Classifier: Fold - 10 Training Error : 0.2254\n",
      "Naive Bayes Classifier: Fold - 10 Validation Error : 0.3158\n",
      "Logistic Regression Classifier: Fold - 10 Training Error : 0.2124\n",
      "Logistic Regression Classifier: Fold - 10 Validation Error : 0.2895\n",
      "K-Nearest Neighbors Classifier: Fold - 10 Training Error : 0.1402\n",
      "K-Nearest Neighbors Classifier: Fold - 10 Validation Error : 0.4079\n"
     ]
    }
   ],
   "source": [
    "for i in range(1,11):\n",
    "    if i < 10:\n",
    "        temp_t = \"XT\"+str(0)+str(i)\n",
    "        temp_v = \"XV\"+str(0)+str(i)\n",
    "    else:\n",
    "        temp_t = \"XT\"+str(i)\n",
    "        temp_v = \"XV\"+str(i)\n",
    "        \n",
    "    data_train = read_csv('diabetes_10fold_train_val/'+temp_t+'.csv')\n",
    "    data_train_x = data_train.drop(columns=['Outcome'])\n",
    "    data_train_y = data_train['Outcome']\n",
    "    data_val = read_csv('diabetes_10fold_train_val/'+temp_v+'.csv')\n",
    "    data_val_x = data_val.drop(columns=['Outcome'])\n",
    "    data_val_y = data_val['Outcome']\n",
    "    \n",
    "    nbmodel = GaussianNB()\n",
    "    nbmodel.fit(data_train_x,data_train_y)\n",
    "    nbpredictions_train = nbmodel.predict(data_train_x)\n",
    "    nbMSE_train = mean_squared_error(data_train_y,nbpredictions_train)\n",
    "    print('Naive Bayes Classifier: Fold - ' + str(i) + ' Training Error : ' '%.4f' % (nbMSE_train) )\n",
    "    \n",
    "    nbpredictions_val = nbmodel.predict(data_val_x)\n",
    "    nbMSE_val = mean_squared_error(data_val_y,nbpredictions_val)\n",
    "    print('Naive Bayes Classifier: Fold - ' + str(i) + ' Validation Error : ' '%.4f' % (nbMSE_val) )\n",
    "    \n",
    "    lrmodel = LogisticRegression(solver='lbfgs', max_iter=1000)\n",
    "    lrmodel.fit(data_train_x,data_train_y)\n",
    "    lrpredictions_train = lrmodel.predict(data_train_x)\n",
    "    lrMSE_train = mean_squared_error(data_train_y,lrpredictions_train)\n",
    "    print('Logistic Regression Classifier: Fold - ' + str(i) + ' Training Error : ' '%.4f' % (lrMSE_train) )\n",
    "    \n",
    "    lrpredictions_val = lrmodel.predict(data_val_x)\n",
    "    lrMSE_val = mean_squared_error(data_val_y,lrpredictions_val)\n",
    "    print('Logistic Regression Classifier: Fold - ' + str(i) + ' Validation Error : ' '%.4f' % (lrMSE_val) )\n",
    "  \n",
    "\n",
    "    knnmodel = KNeighborsClassifier(n_neighbors=3)\n",
    "    knnmodel.fit(data_train_x,data_train_y)\n",
    "    knnpredictions_train = knnmodel.predict(data_train_x)\n",
    "    knnMSE_train = mean_squared_error(data_train_y,knnpredictions_train)\n",
    "    print('K-Nearest Neighbors Classifier: Fold - ' + str(i) + ' Training Error : ' '%.4f' % (knnMSE_train) )\n",
    "    \n",
    "    knnpredictions_val = knnmodel.predict(data_val_x)\n",
    "    knnMSE_val = mean_squared_error(data_val_y,knnpredictions_val)\n",
    "    print('K-Nearest Neighbors Classifier: Fold - ' + str(i) + ' Validation Error : ' '%.4f' % (knnMSE_val) )\n",
    "    \n",
    "    \n",
    "    \n",
    "    "
   ]
  },
  {
   "cell_type": "markdown",
   "id": "5f0212e9",
   "metadata": {},
   "source": [
    "# Training Error\n",
    "| Fold | Naïve Bayes classifier | Logistic Regression classifier | 3-NN classifier |\n",
    "|------|------|------|------|\n",
    "|1|0.2370|0.2182|0.1488|\n",
    "|2|0.2344|0.2214 |0.1462 |\n",
    "|3|0.2330|0.2127 |0.1418 |\n",
    "|4|0.2475|0.2272 |0.1577 |\n",
    "|5|0.2446|0.2200 |0.1360 |\n",
    "|6|0.2359|0.2171 |0.1520 |\n",
    "|7|0.2402|0.2200 |0.1621 |\n",
    "|8|0.2301|0.2171 |0.1389 |\n",
    "|9|0.2489|0.2214 |0.1433 |\n",
    "|10|0.2254|0.2124 |0.1402 |\n"
   ]
  },
  {
   "cell_type": "markdown",
   "id": "8135a9b0",
   "metadata": {},
   "source": []
  },
  {
   "cell_type": "markdown",
   "id": "e84b6b01",
   "metadata": {},
   "source": [
    "# Validation Error\n",
    "| Fold | Naïve Bayes classifier | Logistic Regression classifier | 3-NN classifier |\n",
    "|------|------|------|------|\n",
    "|1|0.2105|0.2105|0.2895|\n",
    "|2|0.2727|0.2338 |0.4286 |\n",
    "|3|0.2727|0.2987 |0.2468 |\n",
    "|4|0.1818|0.1299 |0.2078 |\n",
    "|5|0.2338|0.2078 |0.2987 |\n",
    "|6|0.2727|0.2208 |0.3247 |\n",
    "|7|0.2468|0.2208 |0.2597 |\n",
    "|8|0.2338|0.2597 |0.3247 |\n",
    "|9|0.1688|0.1688 |0.3117 |\n",
    "|10|0.3158|0.2895 |0.4079 |"
   ]
  }
 ],
 "metadata": {
  "kernelspec": {
   "display_name": "Python 3",
   "language": "python",
   "name": "python3"
  },
  "language_info": {
   "codemirror_mode": {
    "name": "ipython",
    "version": 3
   },
   "file_extension": ".py",
   "mimetype": "text/x-python",
   "name": "python",
   "nbconvert_exporter": "python",
   "pygments_lexer": "ipython3",
   "version": "3.8.8"
  }
 },
 "nbformat": 4,
 "nbformat_minor": 5
}
